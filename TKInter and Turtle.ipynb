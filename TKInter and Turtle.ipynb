import tkinter as tk
import turtle

def lingkaran():
    pen.circle(100)

def persegi():
    for _ in range(4):
        pen.forward(100)
        pen.right(90)

def bola():
    col = ['violet', 'indigo', 'blue', 'green', 'yellow', 'orange', 'red']
    pen.pensize(4)
    pen.speed(20)
    i = 0
    for angle in range(0, 360, 12):
        pen.color(col[i])
        if i == 6:
            i = 0
        else:
            i += 1
        pen.seth(angle)
        pen.circle(80)
    pen.ht()

def lurus():
    jarak = float(panjang.get())
    pen.forward(jarak)

def kiri():
    jarak = float(derajat_kiri.get())
    pen.left(jarak)

def kanan():
    jarak = float(derajat_kanan.get())
    pen.right(jarak)

def hapus():
    pen.clear()

window = tk.Tk()
window.title("Tugas Besar Multimedia")

canvas = turtle.ScrolledCanvas(window, width=700, height=700)
canvas.grid(row=0, column=0, columnspan=2)

pen = turtle.RawTurtle(canvas)

input_derajat_kanan = tk.Label(window, text="Derajat Perpindahan:")
input_derajat_kanan.grid(row=6, column=0, sticky='e')

derajat_kanan = tk.Entry(window)
derajat_kanan.grid(row=6, column=1, sticky='ns')

input_derajat_kiri = tk.Label(window, text="Derajat Perpindahan: ")
input_derajat_kiri.grid(row=7,column=0,sticky='e')

derajat_kiri = tk.Entry(window)
derajat_kiri.grid(row=7, column=1, sticky='ns')

input_inputan = tk.Label(window, text='Panjang: ')
input_inputan.grid(row=5,column=0,sticky='e')

panjang = tk.Entry(window)
panjang.grid(row=5,column=1,sticky='ns')

tombol_lingkaran = tk.Button(window, text="Gambar Lingkaran", command=lingkaran)
tombol_lingkaran.grid(row=2, column=0, sticky="w")

tombol_persegi = tk.Button(window, text="Gambar Persegi", command=persegi)
tombol_persegi.grid(row=3, column=0, sticky="w")

tombol_bola = tk.Button(window, text="Gambar Bola Warna Warni", command=bola)
tombol_bola.grid(row=4, column=0, sticky="w")

tombol_lurus = tk.Button(window, text="Gambar Garis Lurus", command=lurus)
tombol_lurus.grid(row=5, column=0, sticky="w")

tombol_kanan = tk.Button(window, text="Gambar Garis ke Kanan", command=kanan)
tombol_kanan.grid(row=6, column=0, sticky="w")

tombol_kiri = tk.Button(window, text="Gambar Garis ke Kiri", command=kiri)
tombol_kiri.grid(row=7, column=0, sticky="w")

tombol_hapus = tk.Button(window, text="Hapus", command=hapus)
tombol_hapus.grid(row=8,column=0,sticky='w')
window.mainloop()
