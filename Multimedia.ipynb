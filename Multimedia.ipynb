{
  "nbformat": 4,
  "nbformat_minor": 0,
  "metadata": {
    "colab": {
      "provenance": [],
      "authorship_tag": "ABX9TyMtZE9srlANQXKcIq1hRARX"
    },
    "kernelspec": {
      "name": "python3",
      "display_name": "Python 3"
    },
    "language_info": {
      "name": "python"
    }
  },
  "cells": [
    {
      "cell_type": "code",
      "source": [
        "import tkinter as tk\n",
        "import turtle\n",
        "\n",
        "def lingkaran():\n",
        "    pen.circle(100)\n",
        "\n",
        "def persegi():\n",
        "    for _ in range(4):\n",
        "        pen.forward(100)\n",
        "        pen.right(90)\n",
        "\n",
        "def bola():\n",
        "    col = ['violet', 'indigo', 'blue', 'green', 'yellow', 'orange', 'red']\n",
        "    pen.pensize(4)\n",
        "    pen.speed(20)\n",
        "    i = 0\n",
        "    for angle in range(0, 360, 12):\n",
        "        pen.color(col[i])\n",
        "        if i == 6:\n",
        "            i = 0\n",
        "        else:\n",
        "            i += 1\n",
        "        pen.seth(angle)\n",
        "        pen.circle(80)\n",
        "    pen.ht()\n",
        "\n",
        "def lurus():\n",
        "    jarak = float(panjang.get())\n",
        "    pen.forward(jarak)\n",
        "\n",
        "def kiri():\n",
        "    jarak = float(derajat_kiri.get())\n",
        "    pen.left(jarak)\n",
        "\n",
        "def kanan():\n",
        "    jarak = float(derajat_kanan.get())\n",
        "    pen.right(jarak)\n",
        "\n",
        "def hapus():\n",
        "    pen.clear()\n",
        "\n",
        "window = tk.Tk()\n",
        "window.title(\"Tugas Besar Multimedia\")\n",
        "\n",
        "canvas = turtle.ScrolledCanvas(window, width=700, height=700)\n",
        "canvas.grid(row=0, column=0, columnspan=2)\n",
        "\n",
        "pen = turtle.RawTurtle(canvas)\n",
        "\n",
        "input_derajat_kanan = tk.Label(window, text=\"Derajat Perpindahan:\")\n",
        "input_derajat_kanan.grid(row=6, column=0, sticky='e')\n",
        "\n",
        "derajat_kanan = tk.Entry(window)\n",
        "derajat_kanan.grid(row=6, column=1, sticky='ns')\n",
        "\n",
        "input_derajat_kiri = tk.Label(window, text=\"Derajat Perpindahan: \")\n",
        "input_derajat_kiri.grid(row=7,column=0,sticky='e')\n",
        "\n",
        "derajat_kiri = tk.Entry(window)\n",
        "derajat_kiri.grid(row=7, column=1, sticky='ns')\n",
        "\n",
        "input_inputan = tk.Label(window, text='Panjang: ')\n",
        "input_inputan.grid(row=5,column=0,sticky='e')\n",
        "\n",
        "panjang = tk.Entry(window)\n",
        "panjang.grid(row=5,column=1,sticky='ns')\n",
        "\n",
        "tombol_lingkaran = tk.Button(window, text=\"Gambar Lingkaran\", command=lingkaran)\n",
        "tombol_lingkaran.grid(row=2, column=0, sticky=\"w\")\n",
        "\n",
        "tombol_persegi = tk.Button(window, text=\"Gambar Persegi\", command=persegi)\n",
        "tombol_persegi.grid(row=3, column=0, sticky=\"w\")\n",
        "\n",
        "tombol_bola = tk.Button(window, text=\"Gambar Bola Warna Warni\", command=bola)\n",
        "tombol_bola.grid(row=4, column=0, sticky=\"w\")\n",
        "\n",
        "tombol_lurus = tk.Button(window, text=\"Gambar Garis Lurus\", command=lurus)\n",
        "tombol_lurus.grid(row=5, column=0, sticky=\"w\")\n",
        "\n",
        "tombol_kanan = tk.Button(window, text=\"Gambar Garis ke Kanan\", command=kanan)\n",
        "tombol_kanan.grid(row=6, column=0, sticky=\"w\")\n",
        "\n",
        "tombol_kiri = tk.Button(window, text=\"Gambar Garis ke Kiri\", command=kiri)\n",
        "tombol_kiri.grid(row=7, column=0, sticky=\"w\")\n",
        "\n",
        "tombol_hapus = tk.Button(window, text=\"Hapus\", command=hapus)\n",
        "tombol_hapus.grid(row=8,column=0,sticky='w')\n",
        "window.mainloop()\n"
      ],
      "metadata": {
        "colab": {
          "base_uri": "https://localhost:8080/",
          "height": 391
        },
        "id": "C-EWHsftCO8S",
        "outputId": "c0ebfc45-dd98-40d8-aa09-457d2e4754be"
      },
      "execution_count": null,
      "outputs": [
        {
          "output_type": "error",
          "ename": "TclError",
          "evalue": "ignored",
          "traceback": [
            "\u001b[0;31m---------------------------------------------------------------------------\u001b[0m",
            "\u001b[0;31mTclError\u001b[0m                                  Traceback (most recent call last)",
            "\u001b[0;32m<ipython-input-2-9f8d49d5e56e>\u001b[0m in \u001b[0;36m<cell line: 7>\u001b[0;34m()\u001b[0m\n\u001b[1;32m      5\u001b[0m \u001b[0;34m\u001b[0m\u001b[0m\n\u001b[1;32m      6\u001b[0m \u001b[0;31m# Create a window\u001b[0m\u001b[0;34m\u001b[0m\u001b[0;34m\u001b[0m\u001b[0m\n\u001b[0;32m----> 7\u001b[0;31m \u001b[0mwindow\u001b[0m \u001b[0;34m=\u001b[0m \u001b[0mtk\u001b[0m\u001b[0;34m.\u001b[0m\u001b[0mTk\u001b[0m\u001b[0;34m(\u001b[0m\u001b[0;34m)\u001b[0m\u001b[0;34m\u001b[0m\u001b[0;34m\u001b[0m\u001b[0m\n\u001b[0m\u001b[1;32m      8\u001b[0m \u001b[0;34m\u001b[0m\u001b[0m\n\u001b[1;32m      9\u001b[0m \u001b[0;31m# Add a label\u001b[0m\u001b[0;34m\u001b[0m\u001b[0;34m\u001b[0m\u001b[0m\n",
            "\u001b[0;32m/usr/lib/python3.10/tkinter/__init__.py\u001b[0m in \u001b[0;36m__init__\u001b[0;34m(self, screenName, baseName, className, useTk, sync, use)\u001b[0m\n\u001b[1;32m   2300\u001b[0m                 \u001b[0mbaseName\u001b[0m \u001b[0;34m=\u001b[0m \u001b[0mbaseName\u001b[0m \u001b[0;34m+\u001b[0m \u001b[0mext\u001b[0m\u001b[0;34m\u001b[0m\u001b[0;34m\u001b[0m\u001b[0m\n\u001b[1;32m   2301\u001b[0m         \u001b[0minteractive\u001b[0m \u001b[0;34m=\u001b[0m \u001b[0;32mFalse\u001b[0m\u001b[0;34m\u001b[0m\u001b[0;34m\u001b[0m\u001b[0m\n\u001b[0;32m-> 2302\u001b[0;31m         \u001b[0mself\u001b[0m\u001b[0;34m.\u001b[0m\u001b[0mtk\u001b[0m \u001b[0;34m=\u001b[0m \u001b[0m_tkinter\u001b[0m\u001b[0;34m.\u001b[0m\u001b[0mcreate\u001b[0m\u001b[0;34m(\u001b[0m\u001b[0mscreenName\u001b[0m\u001b[0;34m,\u001b[0m \u001b[0mbaseName\u001b[0m\u001b[0;34m,\u001b[0m \u001b[0mclassName\u001b[0m\u001b[0;34m,\u001b[0m \u001b[0minteractive\u001b[0m\u001b[0;34m,\u001b[0m \u001b[0mwantobjects\u001b[0m\u001b[0;34m,\u001b[0m \u001b[0museTk\u001b[0m\u001b[0;34m,\u001b[0m \u001b[0msync\u001b[0m\u001b[0;34m,\u001b[0m \u001b[0muse\u001b[0m\u001b[0;34m)\u001b[0m\u001b[0;34m\u001b[0m\u001b[0;34m\u001b[0m\u001b[0m\n\u001b[0m\u001b[1;32m   2303\u001b[0m         \u001b[0;32mif\u001b[0m \u001b[0museTk\u001b[0m\u001b[0;34m:\u001b[0m\u001b[0;34m\u001b[0m\u001b[0;34m\u001b[0m\u001b[0m\n\u001b[1;32m   2304\u001b[0m             \u001b[0mself\u001b[0m\u001b[0;34m.\u001b[0m\u001b[0m_loadtk\u001b[0m\u001b[0;34m(\u001b[0m\u001b[0;34m)\u001b[0m\u001b[0;34m\u001b[0m\u001b[0;34m\u001b[0m\u001b[0m\n",
            "\u001b[0;31mTclError\u001b[0m: no display name and no $DISPLAY environment variable"
          ]
        }
      ]
    },
    {
      "cell_type": "code",
      "source": [],
      "metadata": {
        "id": "_31cubIQWLRb"
      },
      "execution_count": null,
      "outputs": []
    }
  ]
}